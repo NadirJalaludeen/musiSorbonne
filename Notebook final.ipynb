{
 "cells": [
  {
   "cell_type": "markdown",
   "id": "2c97ab5f",
   "metadata": {},
   "source": [
    "# Notebook de Stage - musiSorbonne"
   ]
  },
  {
   "cell_type": "markdown",
   "id": "56bd0fb0",
   "metadata": {},
   "source": [
    "## Importation des données"
   ]
  },
  {
   "cell_type": "code",
   "execution_count": 1,
   "id": "64544e75",
   "metadata": {},
   "outputs": [
    {
     "data": {
      "text/plain": [
       "From              \"Nicolas Meeus\" <nicolas.meeus@paris4.sorbonne...\n",
       "To                           \"musiSorbonne\" <musiSorbonne@cines.fr>\n",
       "Subject                                        Tr: annonce colloque\n",
       "Date                                 Mon, 1 Dec 2003 18:32:48 +0100\n",
       "Body              annonce colloque\\nMousikè et Aretè \\nLa Musiqu...\n",
       "ConversationID                                1837578121379584768.0\n",
       "Name: 0, dtype: object"
      ]
     },
     "execution_count": 1,
     "metadata": {},
     "output_type": "execute_result"
    }
   ],
   "source": [
    "import pandas as pd\n",
    "\n",
    "data = pd.read_csv(\"./emails2003.csv\")\n",
    "\n",
    "data.iloc[0]"
   ]
  },
  {
   "cell_type": "markdown",
   "id": "76aa9a0a",
   "metadata": {},
   "source": [
    "Chaque ligne représente un mail, ayant pour features l'expéditeur \"From\", le destinataire \"To\" (musiSorbonne), l'objet du mail \"Subject\", la data \"Date\", ainsi que le corps du message \"Body\"."
   ]
  },
  {
   "cell_type": "markdown",
   "id": "c4959042",
   "metadata": {},
   "source": [
    "En utilisant des fonctions dans la suite du Notebook, on a décelé des valeurs non conformes."
   ]
  },
  {
   "cell_type": "code",
   "execution_count": 2,
   "id": "67af7338",
   "metadata": {},
   "outputs": [
    {
     "data": {
      "text/plain": [
       "('05 Feb 2003 11:20:16 +0000',\n",
       " 'Sun, 23 Nov 03 23:19:18',\n",
       " 'Thu, 16 Oct 03 16:46:43')"
      ]
     },
     "execution_count": 2,
     "metadata": {},
     "output_type": "execute_result"
    }
   ],
   "source": [
    "#Valeur non conforme\n",
    "data.iloc[1195,3], data.iloc[132,3], data.iloc[192,3]"
   ]
  },
  {
   "cell_type": "code",
   "execution_count": 3,
   "id": "27bfb547",
   "metadata": {},
   "outputs": [],
   "source": [
    "data.iloc[1195,3] = \"Wed, \" + data.iloc[1195,3]\n",
    "data.iloc[132,3] = 'Sun, 23 Nov 2003 23:19:18 +0100'\n",
    "data.iloc[192,3] = 'Thu, 16 Oct 2003 16:46:43 +0100'"
   ]
  },
  {
   "cell_type": "markdown",
   "id": "6c8b6aeb",
   "metadata": {},
   "source": [
    "## Classifier par discussion"
   ]
  },
  {
   "cell_type": "code",
   "execution_count": 4,
   "id": "cb63f721",
   "metadata": {},
   "outputs": [
    {
     "data": {
      "text/plain": [
       "[[0, 3, 4],\n",
       " [1],\n",
       " [2],\n",
       " [5],\n",
       " [6],\n",
       " [7],\n",
       " [8],\n",
       " [9],\n",
       " [10],\n",
       " [11],\n",
       " [12, 13, 14, 17, 20],\n",
       " [15],\n",
       " [16],\n",
       " [18, 26],\n",
       " [19],\n",
       " [21],\n",
       " [22],\n",
       " [23],\n",
       " [24],\n",
       " [25],\n",
       " [27],\n",
       " [28],\n",
       " [29],\n",
       " [30, 31, 32, 33],\n",
       " [34, 36],\n",
       " [35],\n",
       " [37],\n",
       " [38],\n",
       " [39, 41, 42, 43, 44, 45, 46],\n",
       " [40],\n",
       " [47],\n",
       " [48, 49],\n",
       " [50],\n",
       " [51],\n",
       " [52, 53, 54, 55],\n",
       " [56],\n",
       " [57],\n",
       " [58],\n",
       " [59],\n",
       " [60],\n",
       " [61, 63, 64, 67, 70, 73],\n",
       " [62, 65, 66, 71, 72],\n",
       " [68],\n",
       " [69],\n",
       " [74, 81, 85],\n",
       " [75],\n",
       " [76, 79, 80],\n",
       " [77],\n",
       " [78],\n",
       " [82, 83, 84, 86],\n",
       " [87, 88],\n",
       " [89],\n",
       " [90],\n",
       " [91],\n",
       " [92],\n",
       " [93],\n",
       " [94],\n",
       " [95],\n",
       " [96, 98],\n",
       " [97],\n",
       " [99],\n",
       " [100],\n",
       " [101, 102, 104, 105, 106, 107, 111, 113, 115],\n",
       " [103, 112, 114, 116, 127],\n",
       " [108],\n",
       " [109],\n",
       " [110],\n",
       " [117],\n",
       " [118],\n",
       " [119, 120],\n",
       " [121, 124],\n",
       " [122],\n",
       " [123],\n",
       " [125],\n",
       " [126],\n",
       " [128],\n",
       " [129],\n",
       " [130],\n",
       " [131, 135],\n",
       " [132],\n",
       " [133],\n",
       " [134],\n",
       " [136, 137, 138, 139, 140, 141, 142, 143, 144, 145],\n",
       " [146],\n",
       " [147],\n",
       " [148, 149],\n",
       " [150],\n",
       " [151],\n",
       " [152],\n",
       " [153],\n",
       " [154, 161, 162, 165, 166],\n",
       " [155, 156, 157, 158, 159],\n",
       " [160, 163],\n",
       " [164],\n",
       " [167, 168, 169, 170, 171, 172, 188],\n",
       " [173, 180, 182],\n",
       " [174],\n",
       " [175, 177],\n",
       " [176],\n",
       " [178],\n",
       " [179],\n",
       " [181],\n",
       " [183],\n",
       " [184, 185],\n",
       " [186],\n",
       " [187],\n",
       " [189],\n",
       " [190, 202],\n",
       " [191, 192, 196],\n",
       " [193, 194],\n",
       " [195],\n",
       " [197],\n",
       " [198, 201],\n",
       " [199],\n",
       " [200],\n",
       " [203, 204],\n",
       " [205],\n",
       " [206, 207],\n",
       " [208],\n",
       " [209],\n",
       " [210],\n",
       " [211],\n",
       " [212],\n",
       " [213],\n",
       " [214, 215],\n",
       " [216],\n",
       " [217, 218],\n",
       " [219],\n",
       " [220],\n",
       " [221, 222, 223],\n",
       " [224],\n",
       " [225],\n",
       " [226],\n",
       " [227, 228],\n",
       " [229, 230, 231, 232],\n",
       " [233],\n",
       " [234, 235, 238],\n",
       " [236, 237],\n",
       " [239],\n",
       " [240, 243],\n",
       " [241, 242, 245],\n",
       " [244],\n",
       " [246, 247, 248],\n",
       " [249],\n",
       " [250, 251],\n",
       " [252, 253, 254, 255, 256, 257, 258, 259, 260, 262],\n",
       " [261, 263, 267, 270],\n",
       " [264, 266, 268],\n",
       " [265],\n",
       " [269],\n",
       " [271],\n",
       " [272],\n",
       " [273],\n",
       " [274],\n",
       " [275, 276, 277, 278, 280, 281],\n",
       " [279],\n",
       " [282],\n",
       " [283],\n",
       " [284],\n",
       " [285],\n",
       " [286, 294, 295, 296, 299, 300],\n",
       " [287],\n",
       " [288],\n",
       " [289],\n",
       " [290],\n",
       " [291],\n",
       " [292],\n",
       " [293, 301, 304, 305, 306, 307, 308, 309, 310],\n",
       " [297],\n",
       " [298],\n",
       " [302],\n",
       " [303],\n",
       " [311],\n",
       " [312,\n",
       "  313,\n",
       "  314,\n",
       "  315,\n",
       "  317,\n",
       "  318,\n",
       "  319,\n",
       "  320,\n",
       "  321,\n",
       "  322,\n",
       "  323,\n",
       "  324,\n",
       "  325,\n",
       "  326,\n",
       "  327,\n",
       "  330,\n",
       "  332,\n",
       "  333,\n",
       "  334,\n",
       "  335],\n",
       " [316],\n",
       " [328],\n",
       " [329, 331, 336],\n",
       " [337, 338],\n",
       " [339],\n",
       " [340],\n",
       " [341],\n",
       " [342, 351, 357, 367],\n",
       " [343, 344, 345, 346],\n",
       " [347, 348],\n",
       " [349, 350, 356, 358, 361, 369],\n",
       " [352, 359],\n",
       " [353],\n",
       " [354],\n",
       " [355],\n",
       " [360, 375, 376],\n",
       " [362, 368, 370, 371],\n",
       " [363, 364, 365],\n",
       " [366],\n",
       " [372, 373, 378, 379, 380, 382, 383, 384, 385],\n",
       " [374, 377],\n",
       " [381, 392],\n",
       " [386, 394, 397, 398, 400, 401, 402, 405, 407, 408, 422, 435],\n",
       " [387, 388, 389, 390, 391, 393, 395, 396],\n",
       " [399],\n",
       " [403],\n",
       " [404],\n",
       " [406],\n",
       " [409, 410, 412],\n",
       " [411],\n",
       " [413, 414],\n",
       " [415],\n",
       " [416],\n",
       " [417, 418, 419],\n",
       " [420],\n",
       " [421, 430],\n",
       " [423, 425, 427],\n",
       " [424],\n",
       " [426, 429],\n",
       " [428],\n",
       " [431],\n",
       " [432],\n",
       " [433, 434, 436],\n",
       " [437],\n",
       " [438],\n",
       " [439],\n",
       " [440],\n",
       " [441, 443],\n",
       " [442],\n",
       " [444],\n",
       " [445],\n",
       " [446, 447, 455, 456, 457, 458],\n",
       " [448, 449, 450, 453, 454],\n",
       " [451],\n",
       " [452],\n",
       " [459,\n",
       "  460,\n",
       "  467,\n",
       "  468,\n",
       "  469,\n",
       "  471,\n",
       "  472,\n",
       "  473,\n",
       "  474,\n",
       "  475,\n",
       "  476,\n",
       "  477,\n",
       "  478,\n",
       "  479,\n",
       "  480,\n",
       "  481,\n",
       "  482,\n",
       "  483,\n",
       "  484,\n",
       "  485,\n",
       "  486,\n",
       "  487,\n",
       "  488,\n",
       "  489,\n",
       "  491,\n",
       "  496,\n",
       "  500,\n",
       "  501,\n",
       "  502],\n",
       " [461, 462, 463, 464, 466],\n",
       " [465],\n",
       " [470],\n",
       " [490],\n",
       " [492, 493, 494, 498, 499],\n",
       " [495],\n",
       " [497],\n",
       " [503, 504, 505, 506],\n",
       " [507],\n",
       " [508],\n",
       " [509],\n",
       " [510],\n",
       " [511],\n",
       " [512],\n",
       " [513, 527, 529, 532],\n",
       " [514],\n",
       " [515, 516, 517],\n",
       " [518, 519, 528, 535, 542],\n",
       " [520, 522, 525, 526, 530, 531, 533, 534],\n",
       " [521],\n",
       " [523],\n",
       " [524],\n",
       " [536, 538, 539, 543, 544],\n",
       " [537, 548, 549],\n",
       " [540],\n",
       " [541, 551],\n",
       " [545],\n",
       " [546, 547, 550, 562, 564, 574],\n",
       " [552],\n",
       " [553],\n",
       " [554, 555, 556],\n",
       " [557],\n",
       " [558],\n",
       " [559, 560],\n",
       " [561],\n",
       " [563],\n",
       " [565, 566, 569, 570],\n",
       " [567],\n",
       " [568, 572],\n",
       " [571],\n",
       " [573, 575, 576, 579, 580, 581, 585, 586],\n",
       " [577],\n",
       " [578],\n",
       " [582],\n",
       " [583],\n",
       " [584],\n",
       " [587, 590, 591, 592, 593, 594, 595, 597, 598, 600, 610, 616, 618, 620],\n",
       " [588],\n",
       " [589],\n",
       " [596],\n",
       " [599, 614],\n",
       " [601, 602],\n",
       " [603],\n",
       " [604, 606, 609, 621, 625, 629, 632],\n",
       " [605, 613, 615, 617],\n",
       " [607],\n",
       " [608],\n",
       " [611],\n",
       " [612, 619],\n",
       " [622, 624, 627, 635],\n",
       " [623],\n",
       " [626, 630],\n",
       " [628, 634, 636],\n",
       " [631, 633, 637, 638, 650],\n",
       " [639],\n",
       " [640],\n",
       " [641],\n",
       " [642],\n",
       " [643, 644, 646, 647, 648, 649, 651, 652, 657, 659, 661, 662],\n",
       " [645],\n",
       " [653, 654, 655],\n",
       " [656, 660],\n",
       " [658],\n",
       " [663],\n",
       " [664],\n",
       " [665],\n",
       " [666, 667, 668, 669, 671, 675, 676, 677],\n",
       " [670],\n",
       " [672, 678, 680, 683, 685, 686, 687, 688, 689, 690, 693],\n",
       " [673, 679, 691, 692, 695],\n",
       " [674],\n",
       " [681],\n",
       " [682],\n",
       " [684],\n",
       " [694, 696, 697, 698, 699, 700, 701, 702, 703, 704],\n",
       " [705],\n",
       " [706],\n",
       " [707, 708, 709, 710, 711, 712],\n",
       " [713, 715, 717, 718],\n",
       " [714],\n",
       " [716],\n",
       " [719, 721],\n",
       " [720, 722],\n",
       " [723, 724, 725, 726, 727, 728, 729],\n",
       " [730],\n",
       " [731],\n",
       " [732, 734, 735, 738, 739],\n",
       " [733, 737],\n",
       " [736],\n",
       " [740, 741, 758, 759, 766, 767, 772, 773, 777],\n",
       " [742,\n",
       "  743,\n",
       "  747,\n",
       "  748,\n",
       "  749,\n",
       "  751,\n",
       "  752,\n",
       "  753,\n",
       "  756,\n",
       "  757,\n",
       "  762,\n",
       "  764,\n",
       "  765,\n",
       "  768,\n",
       "  770,\n",
       "  779,\n",
       "  780],\n",
       " [744],\n",
       " [745, 746],\n",
       " [750, 760, 763, 769, 771],\n",
       " [754, 755],\n",
       " [761],\n",
       " [774, 776],\n",
       " [775],\n",
       " [778],\n",
       " [781],\n",
       " [782],\n",
       " [783, 785],\n",
       " [784],\n",
       " [786, 787],\n",
       " [788],\n",
       " [789, 790, 791, 792, 793, 794],\n",
       " [795],\n",
       " [796],\n",
       " [797],\n",
       " [798, 799],\n",
       " [800],\n",
       " [801, 802, 812],\n",
       " [803],\n",
       " [804],\n",
       " [805],\n",
       " [806, 807, 809, 815],\n",
       " [808],\n",
       " [810],\n",
       " [811],\n",
       " [813, 814, 817, 818, 828, 845],\n",
       " [816],\n",
       " [819, 820, 821, 822, 823, 824, 825, 826, 831],\n",
       " [827, 830],\n",
       " [829],\n",
       " [832],\n",
       " [833],\n",
       " [834],\n",
       " [835, 838, 839, 842, 843, 844, 846, 847, 848, 849, 850, 851, 852],\n",
       " [836],\n",
       " [837],\n",
       " [840],\n",
       " [841],\n",
       " [853, 854, 855, 856, 857],\n",
       " [858, 859, 860],\n",
       " [861, 864],\n",
       " [862, 865, 868, 869, 871, 881],\n",
       " [863],\n",
       " [866, 867, 879, 880],\n",
       " [870],\n",
       " [872],\n",
       " [873],\n",
       " [874],\n",
       " [875],\n",
       " [876, 877],\n",
       " [878],\n",
       " [882, 890, 892, 893, 895, 898, 906],\n",
       " [883],\n",
       " [884, 885, 886],\n",
       " [887],\n",
       " [888],\n",
       " [889],\n",
       " [891],\n",
       " [894, 896, 897, 902],\n",
       " [899, 900],\n",
       " [901],\n",
       " [903],\n",
       " [904],\n",
       " [905],\n",
       " [907, 908, 909],\n",
       " [910, 913, 916, 918],\n",
       " [911, 912],\n",
       " [914, 915, 917, 919, 923],\n",
       " [920, 921, 934],\n",
       " [922],\n",
       " [924],\n",
       " [925, 931, 932],\n",
       " [926],\n",
       " [927, 928],\n",
       " [929, 930, 933, 939, 940, 942],\n",
       " [935],\n",
       " [936],\n",
       " [937, 941],\n",
       " [938],\n",
       " [943, 946, 953, 956],\n",
       " [944, 945, 947],\n",
       " [948],\n",
       " [949],\n",
       " [950],\n",
       " [951],\n",
       " [952, 955],\n",
       " [954],\n",
       " [957],\n",
       " [958],\n",
       " [959],\n",
       " [960],\n",
       " [961],\n",
       " [962],\n",
       " [963],\n",
       " [964,\n",
       "  965,\n",
       "  966,\n",
       "  967,\n",
       "  969,\n",
       "  970,\n",
       "  971,\n",
       "  972,\n",
       "  974,\n",
       "  975,\n",
       "  977,\n",
       "  978,\n",
       "  979,\n",
       "  985,\n",
       "  986,\n",
       "  999,\n",
       "  1000,\n",
       "  1001],\n",
       " [968, 980, 981, 982],\n",
       " [973],\n",
       " [976],\n",
       " [983, 984, 987, 988, 989],\n",
       " [990],\n",
       " [991],\n",
       " [992, 993],\n",
       " [994, 995, 996, 997],\n",
       " [998, 1007, 1020, 1021, 1029],\n",
       " [1002],\n",
       " [1003],\n",
       " [1004],\n",
       " [1005,\n",
       "  1006,\n",
       "  1008,\n",
       "  1022,\n",
       "  1024,\n",
       "  1026,\n",
       "  1027,\n",
       "  1028,\n",
       "  1030,\n",
       "  1031,\n",
       "  1032,\n",
       "  1033,\n",
       "  1041,\n",
       "  1042,\n",
       "  1044,\n",
       "  1045,\n",
       "  1047,\n",
       "  1048,\n",
       "  1049,\n",
       "  1050,\n",
       "  1051,\n",
       "  1052,\n",
       "  1053,\n",
       "  1054,\n",
       "  1056,\n",
       "  1057,\n",
       "  1058,\n",
       "  1059,\n",
       "  1061,\n",
       "  1068],\n",
       " [1009, 1010],\n",
       " [1011, 1018, 1019],\n",
       " [1012, 1015, 1016],\n",
       " [1013, 1014],\n",
       " [1017],\n",
       " [1023, 1025],\n",
       " [1034],\n",
       " [1035],\n",
       " [1036],\n",
       " [1037],\n",
       " [1038],\n",
       " [1039],\n",
       " [1040],\n",
       " [1043],\n",
       " [1046],\n",
       " [1055,\n",
       "  1067,\n",
       "  1075,\n",
       "  1080,\n",
       "  1082,\n",
       "  1083,\n",
       "  1085,\n",
       "  1088,\n",
       "  1089,\n",
       "  1090,\n",
       "  1091,\n",
       "  1092,\n",
       "  1096,\n",
       "  1102,\n",
       "  1103],\n",
       " [1060],\n",
       " [1062, 1071, 1072, 1073, 1077, 1087, 1097, 1098, 1099],\n",
       " [1063],\n",
       " [1064, 1069, 1074, 1079],\n",
       " [1065, 1070],\n",
       " [1066, 1078, 1086],\n",
       " [1076, 1084],\n",
       " [1081],\n",
       " [1093, 1095],\n",
       " [1094],\n",
       " [1100],\n",
       " [1101],\n",
       " [1104, 1105],\n",
       " [1106, 1108],\n",
       " [1107, 1116],\n",
       " [1109, 1110, 1111],\n",
       " [1112, 1114, 1119, 1121, 1122, 1123, 1128, 1130, 1134],\n",
       " [1113, 1118, 1120],\n",
       " [1115, 1117],\n",
       " [1124, 1129, 1139],\n",
       " [1125],\n",
       " [1126],\n",
       " [1127],\n",
       " [1131, 1132, 1136],\n",
       " [1133],\n",
       " [1135],\n",
       " [1137],\n",
       " [1138, 1155],\n",
       " [1140, 1141, 1142, 1143, 1144, 1145, 1146, 1147, 1148, 1149],\n",
       " [1150],\n",
       " [1151, 1152],\n",
       " [1153, 1154, 1156, 1158, 1159, 1164, 1167, 1168, 1169, 1170, 1173],\n",
       " [1157],\n",
       " [1160, 1162, 1163, 1165, 1166],\n",
       " [1161],\n",
       " [1171],\n",
       " [1172],\n",
       " [1174],\n",
       " [1175],\n",
       " [1176, 1177, 1178, 1179, 1180, 1182, 1183, 1184],\n",
       " [1181],\n",
       " [1185, 1186],\n",
       " [1187],\n",
       " [1188],\n",
       " [1189, 1190],\n",
       " [1191, 1192],\n",
       " [1193, 1198],\n",
       " [1194],\n",
       " [1195],\n",
       " [1196, 1197, 1201, 1208, 1209, 1210, 1211, 1212],\n",
       " [1199, 1200],\n",
       " [1202],\n",
       " [1203, 1204],\n",
       " [1205],\n",
       " [1206],\n",
       " [1207],\n",
       " [1213, 1214],\n",
       " [1215, 1216, 1218],\n",
       " [1217, 1221, 1222, 1223, 1224, 1225, 1226, 1238, 1243],\n",
       " [1219],\n",
       " [1220],\n",
       " [1227, 1228],\n",
       " [1229, 1230, 1231, 1235, 1236],\n",
       " [1232, 1233, 1234, 1237, 1239],\n",
       " [1240, 1242],\n",
       " [1241],\n",
       " [1244, 1245, 1246, 1247, 1248, 1249, 1251],\n",
       " [1250, 1253, 1254],\n",
       " [1252],\n",
       " [1255, 1256, 1257],\n",
       " [1258, 1260, 1270],\n",
       " [1259],\n",
       " [1261],\n",
       " [1262],\n",
       " [1263],\n",
       " [1264],\n",
       " [1265],\n",
       " [1266],\n",
       " [1267],\n",
       " [1268, 1269],\n",
       " [1271],\n",
       " [1272],\n",
       " [1273],\n",
       " [1274],\n",
       " [1275],\n",
       " [1276],\n",
       " [1277],\n",
       " [1278, 1279],\n",
       " [1280, 1281, 1282],\n",
       " [1283],\n",
       " [1284, 1286, 1287, 1289, 1291],\n",
       " [1285, 1292, 1293],\n",
       " [1288],\n",
       " [1290, 1294, 1300],\n",
       " [1295],\n",
       " [1296, 1297, 1298],\n",
       " [1299],\n",
       " [1301],\n",
       " [1302],\n",
       " [1303, 1307],\n",
       " [1304],\n",
       " [1305, 1306, 1318],\n",
       " [1308],\n",
       " [1309, 1310, 1312, 1313, 1315, 1317, 1322],\n",
       " [1311],\n",
       " [1314],\n",
       " [1316, 1319, 1320, 1321],\n",
       " [1323, 1324, 1325, 1326, 1328],\n",
       " [1327, 1329, 1332, 1333, 1335, 1342, 1343, 1344, 1347],\n",
       " [1330],\n",
       " [1331],\n",
       " [1334, 1337, 1345, 1349],\n",
       " [1336],\n",
       " [1338],\n",
       " [1339, 1341],\n",
       " [1340, 1357, 1358, 1361, 1366, 1375],\n",
       " [1346, 1352],\n",
       " [1348],\n",
       " [1350, 1351, 1353, 1355],\n",
       " [1354, 1356, 1360, 1369],\n",
       " [1359],\n",
       " [1362],\n",
       " [1363],\n",
       " [1364, 1365, 1368],\n",
       " [1367],\n",
       " [1370, 1371],\n",
       " [1372, 1379],\n",
       " [1373],\n",
       " [1374,\n",
       "  1376,\n",
       "  1377,\n",
       "  1378,\n",
       "  1380,\n",
       "  1381,\n",
       "  1382,\n",
       "  1383,\n",
       "  1384,\n",
       "  1385,\n",
       "  1386,\n",
       "  1387,\n",
       "  1388,\n",
       "  1389,\n",
       "  1390,\n",
       "  1391,\n",
       "  1394],\n",
       " [1392],\n",
       " [1393, 1395, 1397, 1398, 1400, 1401],\n",
       " [1396],\n",
       " [1399],\n",
       " [1402],\n",
       " [1403],\n",
       " [1404,\n",
       "  1405,\n",
       "  1409,\n",
       "  1410,\n",
       "  1412,\n",
       "  1413,\n",
       "  1414,\n",
       "  1415,\n",
       "  1416,\n",
       "  1417,\n",
       "  1419,\n",
       "  1420,\n",
       "  1421],\n",
       " [1406],\n",
       " [1407],\n",
       " [1408],\n",
       " [1411],\n",
       " [1418, 1424, 1425, 1426, 1427, 1428, 1429, 1430],\n",
       " [1422],\n",
       " [1423],\n",
       " [1431],\n",
       " [1432, 1433, 1436],\n",
       " [1434],\n",
       " [1435, 1437, 1441],\n",
       " [1438, 1444, 1446],\n",
       " [1439, 1448],\n",
       " [1440, 1442, 1443, 1447, 1450],\n",
       " [1445, 1449, 1452, 1453, 1454, 1455],\n",
       " [1451],\n",
       " [1456, 1461],\n",
       " [1457],\n",
       " [1458, 1459, 1474],\n",
       " [1460],\n",
       " [1462],\n",
       " [1463, 1464, 1466],\n",
       " [1465, 1477],\n",
       " [1467],\n",
       " [1468, 1469, 1470, 1471],\n",
       " [1472, 1473, 1475, 1476, 1478],\n",
       " [1479, 1482, 1484],\n",
       " [1480],\n",
       " [1481],\n",
       " [1483],\n",
       " [1485]]"
      ]
     },
     "execution_count": 4,
     "metadata": {},
     "output_type": "execute_result"
    }
   ],
   "source": [
    "import numpy as np\n",
    "\n",
    "import math\n",
    "\n",
    "from unidecode import unidecode\n",
    "\n",
    "#Création d'une liste de couple Sujet-Index\n",
    "list_subject = np.stack((np.array(data[\"Subject\"]),np.arange(len(data)))).T\n",
    "\n",
    "#Fonction qui range chaque message par discussion\n",
    "def organize_forum(forum):\n",
    "    res = []\n",
    "    doubt1 = []\n",
    "    doubt2 = []\n",
    "    \n",
    "    for i in range(len(forum)):\n",
    "        message, pos = forum[i]\n",
    "        \n",
    "        #On enlève cette mention, car elle peut être là ou non indépendamment de quelconque lien avec un autre message\n",
    "        message = message.replace(\"[musiSorbonne] \", \"\")\n",
    "        \n",
    "        #Si c'est une réponse, elle commence donc par re et on cherche la discussion d'origine, avec une grande tolérance\n",
    "        if message[:3].lower() == \"re:\" or message[:4].lower() == \"re :\":\n",
    "            l = 0\n",
    "            back = 18\n",
    "        \n",
    "        #Sinon, c'est probablement un nouveau sujet, mais au cherche quand même dans les 5 derniers messages avec une faible tolerance pour être sûr\n",
    "        else:\n",
    "            l = 4\n",
    "            back = 5\n",
    "            \n",
    "        #On enlève les parties inutile de l'objet du mail\n",
    "        while True:\n",
    "            if message == \"\":\n",
    "                doubt1.append(pos)\n",
    "                break\n",
    "            elif message[:2].lower() == \"re\":\n",
    "                message = message[2:]\n",
    "            elif message[0] == \" \":\n",
    "                message = message[1:]\n",
    "            elif message[0] == \":\":\n",
    "                message = message[1:]\n",
    "            elif message[:2].lower() == \"tr\":\n",
    "                message = message[2:]\n",
    "            else:\n",
    "                message = message.strip()\n",
    "                break\n",
    "                \n",
    "        find = False\n",
    "            \n",
    "        \n",
    "        #On cherche le mail en augmantant la tolérance petit à petit\n",
    "        while l <= 4 and not find:\n",
    "            \n",
    "            #On cherche dans les back derniers messages\n",
    "            for j in range(i-1, max(-1, i-back), -1):\n",
    "                \n",
    "                #On s'arrête si on a trouvé\n",
    "                if find:\n",
    "                    break\n",
    "                \n",
    "                #On regarde si ça correspond sans les accents, puis en remplaçant les caractères spéciaux par X\n",
    "                if (unidecode(message) in unidecode(forum[j,0])) or (unidecode(message) in ''.join(c if c == unidecode(c) else 'X' for c in forum[j,0])):\n",
    "                    \n",
    "                    #On cherche à quelle discussion est associé le message qui correspond\n",
    "                    for k in range(len(res)):\n",
    "                        \n",
    "                        #On s'arrête si on a trouvé\n",
    "                        if find:\n",
    "                            break\n",
    "                        \n",
    "                        #Si on a trouvé la discussion, on y ajoute le message dont on cherche la discussion\n",
    "                        elif j in res[k]:\n",
    "                            res[k].append(pos)\n",
    "                            find = True\n",
    "                            break\n",
    "            \n",
    "            #On réduit le message pour augmenter la tolérance si on n'a pas trouvé\n",
    "            if not find:\n",
    "                message = message[:min(max(3,math.floor(len(message)/2)), len(message))]\n",
    "                l += 1\n",
    "        \n",
    "        #Si on n'a pas trouvé de discussion correspondante, on le déclare comme étant un nouveau sujet\n",
    "        if not find:\n",
    "            res.append([pos])\n",
    "            doubt2.append(pos)\n",
    "\n",
    "    return res\n",
    "\n",
    "#Liste de discussions\n",
    "forum = organize_forum(list_subject)\n",
    "\n",
    "#Liste de nombre correspondant à la longueur de chaque discussion\n",
    "len_forum = [len(thread) for thread in forum]\n",
    "\n",
    "#Liste de nombre correspondant à la longueur de chaque discussion si la discussion compte plus de deux messages\n",
    "len_forum_2 = [len(thread) for thread in forum if len(thread) > 1]\n",
    "\n",
    "forum"
   ]
  },
  {
   "cell_type": "markdown",
   "id": "8fa9fb67",
   "metadata": {},
   "source": [
    "## Identifier chaque utilisateur avec un nom unique"
   ]
  },
  {
   "cell_type": "code",
   "execution_count": 5,
   "id": "fa1a6334",
   "metadata": {},
   "outputs": [],
   "source": [
    "#Prendre seulement le nom\n",
    "def only_name(txt):\n",
    "    #On onlève les guillemets et on remplace les tirets et points par des espaces\n",
    "    res = txt.replace('\"','')\n",
    "    res = res.replace('-',' ')\n",
    "    res = res.replace('.',' ')\n",
    "    \n",
    "    #Si on trouve un < qui n'est pas en première position, c'est sans doute pour préciser le mail, qu'on va retirer\n",
    "    if ('<' in res) and res[0] != \"<\":\n",
    "        res = res[:res.rfind(\"<\") - 1]\n",
    "    \n",
    "    res = res.replace('<','')\n",
    "    res = res.strip()\n",
    "    \n",
    "    #On enlève le nom de domaine associé au mail si c'en est un\n",
    "    if '@' in res:\n",
    "        res = res[:res.find('@')]\n",
    "    \n",
    "    #On retourne le mail en minuscule et sans caractères spéciaux\n",
    "    return unidecode(res).lower()\n",
    "\n",
    "#On rajoute une colonne identifiant l'expéditeur de façon unique\n",
    "data['Names'] = data[\"From\"].apply(only_name)"
   ]
  },
  {
   "cell_type": "markdown",
   "id": "04b66e96",
   "metadata": {},
   "source": [
    "## Statistiques descriptives"
   ]
  },
  {
   "cell_type": "code",
   "execution_count": 6,
   "id": "ce547592",
   "metadata": {},
   "outputs": [
    {
     "data": {
      "text/plain": [
       "1486"
      ]
     },
     "execution_count": 6,
     "metadata": {},
     "output_type": "execute_result"
    }
   ],
   "source": [
    "#Taille de l'échantillon, nombre de messages\n",
    "len(data)"
   ]
  },
  {
   "cell_type": "code",
   "execution_count": 7,
   "id": "85d56d3f",
   "metadata": {},
   "outputs": [
    {
     "data": {
      "text/plain": [
       "150"
      ]
     },
     "execution_count": 7,
     "metadata": {},
     "output_type": "execute_result"
    }
   ],
   "source": [
    "#Nombre d'utilisateurs\n",
    "len(np.unique(data['Names']))"
   ]
  },
  {
   "cell_type": "code",
   "execution_count": 8,
   "id": "493bea21",
   "metadata": {},
   "outputs": [
    {
     "data": {
      "text/plain": [
       "625"
      ]
     },
     "execution_count": 8,
     "metadata": {},
     "output_type": "execute_result"
    }
   ],
   "source": [
    "#Nombre de discussions\n",
    "len(forum)"
   ]
  },
  {
   "cell_type": "code",
   "execution_count": 9,
   "id": "1bfecf51",
   "metadata": {},
   "outputs": [
    {
     "data": {
      "text/plain": [
       "248"
      ]
     },
     "execution_count": 9,
     "metadata": {},
     "output_type": "execute_result"
    }
   ],
   "source": [
    "#Nombre de discussions ayant plus de 2 messages\n",
    "len(len_forum_2)"
   ]
  },
  {
   "cell_type": "code",
   "execution_count": 10,
   "id": "9ec9cefe",
   "metadata": {},
   "outputs": [
    {
     "data": {
      "text/plain": [
       "2.3776"
      ]
     },
     "execution_count": 10,
     "metadata": {},
     "output_type": "execute_result"
    }
   ],
   "source": [
    "#Nombre moyen de messages par discussion\n",
    "np.mean(len_forum)"
   ]
  },
  {
   "cell_type": "code",
   "execution_count": 11,
   "id": "fca99693",
   "metadata": {},
   "outputs": [
    {
     "data": {
      "text/plain": [
       "4.471774193548387"
      ]
     },
     "execution_count": 11,
     "metadata": {},
     "output_type": "execute_result"
    }
   ],
   "source": [
    "#Nombre moyen de messages par discussion qui compte strictement plus d'un message\n",
    "np.mean(len_forum_2)"
   ]
  },
  {
   "cell_type": "code",
   "execution_count": 12,
   "id": "998225e7",
   "metadata": {},
   "outputs": [],
   "source": [
    "from nltk.tokenize import word_tokenize\n",
    "\n",
    "#Fonction qui approxime le nombre de mot\n",
    "def word_count(txt):\n",
    "    #On enlève les caractères spéciaux\n",
    "    msg = unidecode(txt)\n",
    "    \n",
    "    #On enlève le texte précedant cette réponse s'il y en a un\n",
    "    while 'original message' in msg:\n",
    "        msg = msg[:msg.find('original message')]\n",
    "        \n",
    "    #Tokenization\n",
    "    tokens = word_tokenize(msg)\n",
    "    \n",
    "    #Filtrer les caractères spéciaux\n",
    "    word_list = [token for token in tokens if (ord('a') <= ord(token[0]) <= ord('z')) or (ord('A') <= ord(token[0]) <= ord('Z'))]\n",
    "    \n",
    "    #On retourne le nombre de mot\n",
    "    return len(word_list)\n",
    "\n",
    "#On rajoute une colonne précisant le nombre de mots du message\n",
    "data[\"Word Count\"] = data[\"Body\"].apply(word_count)"
   ]
  },
  {
   "cell_type": "code",
   "execution_count": 13,
   "id": "755ee425",
   "metadata": {},
   "outputs": [
    {
     "data": {
      "text/plain": [
       "351.7368775235532"
      ]
     },
     "execution_count": 13,
     "metadata": {},
     "output_type": "execute_result"
    }
   ],
   "source": [
    "#Le nombre moyen de mot par message\n",
    "np.mean(data[\"Word Count\"])"
   ]
  },
  {
   "cell_type": "code",
   "execution_count": 14,
   "id": "c68b2e85",
   "metadata": {},
   "outputs": [],
   "source": [
    "#Indices des premiers messages d'une discussion\n",
    "subject_message = [thread[0] for thread in forum]\n",
    "\n",
    "#Indices des réponses d'une discussion\n",
    "answer_message = [i for i in range(1486) if not i in subject_message]"
   ]
  },
  {
   "cell_type": "code",
   "execution_count": 15,
   "id": "c500a961",
   "metadata": {},
   "outputs": [
    {
     "data": {
      "text/plain": [
       "377.0736"
      ]
     },
     "execution_count": 15,
     "metadata": {},
     "output_type": "execute_result"
    }
   ],
   "source": [
    "#Le nombre moyen de mot par premiers messages d'une discussion\n",
    "np.mean(data[\"Word Count\"][subject_message])"
   ]
  },
  {
   "cell_type": "code",
   "execution_count": 16,
   "id": "4ae9a9c0",
   "metadata": {},
   "outputs": [
    {
     "data": {
      "text/plain": [
       "333.3449477351916"
      ]
     },
     "execution_count": 16,
     "metadata": {},
     "output_type": "execute_result"
    }
   ],
   "source": [
    "#Le nombre moyen de mot par réponses d'une discussion\n",
    "np.mean(data[\"Word Count\"][answer_message])"
   ]
  },
  {
   "cell_type": "markdown",
   "id": "c0de27d3",
   "metadata": {},
   "source": [
    "## Analyse de la participation - Activité"
   ]
  },
  {
   "cell_type": "code",
   "execution_count": 17,
   "id": "8ddce22a",
   "metadata": {},
   "outputs": [
    {
     "name": "stdout",
     "output_type": "stream",
     "text": [
      "['Jan' 'Feb' 'Mar' 'Apr' 'May' 'Jun' 'Jul' 'Aug' 'Sep' 'Oct' 'Nov' 'Dec']\n"
     ]
    },
    {
     "data": {
      "image/png": "[encoded data removed]",
      "text/plain": [
       "<Figure size 640x480 with 1 Axes>"
      ]
     },
     "metadata": {},
     "output_type": "display_data"
    }
   ],
   "source": [
    "import matplotlib.pyplot as plt\n",
    "\n",
    "#Ne prendre que la partie correspondante au mois\n",
    "def extract_month(txt):\n",
    "    if txt[6] == ' ':\n",
    "        return txt[7:10]\n",
    "    if txt[7] == ' ':\n",
    "        return txt[8:11]\n",
    "    \n",
    "month_list = np.vectorize(extract_month)(data[\"Date\"])\n",
    "\n",
    "#Comptage de chaque occurence\n",
    "month, nbr = np.unique(month_list, return_counts = True)\n",
    "\n",
    "#On explicite l'ordre étant donné que ce n'est pas dans l'ordre\n",
    "order = [4, 3, 7, 0, 8, 6, 5, 1, 11, 10, 9, 2]\n",
    "\n",
    "#Vérification de l'ordre\n",
    "print(month[order])\n",
    "\n",
    "month, nbr = month[order], nbr[order]\n",
    "\n",
    "plt.bar(month, nbr)\n",
    "plt.savefig(\"month_participation.png\")"
   ]
  },
  {
   "cell_type": "code",
   "execution_count": 18,
   "id": "ff69ee28",
   "metadata": {},
   "outputs": [
    {
     "name": "stdout",
     "output_type": "stream",
     "text": [
      "['Mon' 'Tue' 'Wed' 'Thu' 'Fri' 'Sat' 'Sun']\n"
     ]
    },
    {
     "data": {
      "image/png": "[encoded data removed]",
      "text/plain": [
       "<Figure size 640x480 with 1 Axes>"
      ]
     },
     "metadata": {},
     "output_type": "display_data"
    }
   ],
   "source": [
    "#Ne prendre que la partie correspondante au jour de la semaine\n",
    "extract_week = lambda x: x[0:3]\n",
    "    \n",
    "week_list = np.vectorize(extract_week)(data[\"Date\"])\n",
    "\n",
    "#Comptage de chaque occurence\n",
    "week, nbr = np.unique(week_list, return_counts = True)\n",
    "\n",
    "#On explicite l'ordre étant donné que ce n'est pas dans l'ordre\n",
    "order = [1, 5, 6, 4, 0, 2, 3]\n",
    "\n",
    "#Vérification de l'ordre\n",
    "print(week[order])\n",
    "\n",
    "week, nbr = week[order], nbr[order]\n",
    "\n",
    "plt.bar(week, nbr)\n",
    "plt.savefig(\"day_participation.png\")"
   ]
  },
  {
   "cell_type": "code",
   "execution_count": 19,
   "id": "aa65f10d",
   "metadata": {},
   "outputs": [
    {
     "data": {
      "image/png": "[encoded data removed]",
      "text/plain": [
       "<Figure size 640x480 with 1 Axes>"
      ]
     },
     "metadata": {},
     "output_type": "display_data"
    }
   ],
   "source": [
    "#Ne prendre que la partie correspondante à l'heure\n",
    "def extract_hour(txt):\n",
    "    if txt[6] == ' ':\n",
    "        return txt[16:18]\n",
    "    if txt[7] == ' ':\n",
    "        return txt[17:19]\n",
    "    \n",
    "hour_list = np.vectorize(extract_hour)(data[\"Date\"])\n",
    "\n",
    "#Comptage de chaque occurence\n",
    "hour, nbr = np.unique(hour_list, return_counts = True)\n",
    "\n",
    "plt.bar(hour, nbr)\n",
    "plt.savefig(\"hour_participation.png\")"
   ]
  },
  {
   "cell_type": "markdown",
   "id": "df857b96",
   "metadata": {},
   "source": [
    "## Analyse de la participation - Utilisateurs"
   ]
  },
  {
   "cell_type": "code",
   "execution_count": 20,
   "id": "9e087311",
   "metadata": {},
   "outputs": [
    {
     "data": {
      "image/png": "[encoded data removed]",
      "text/plain": [
       "<Figure size 640x480 with 1 Axes>"
      ]
     },
     "metadata": {},
     "output_type": "display_data"
    }
   ],
   "source": [
    "#Le nombre de message associé à chaque membre\n",
    "user, nbr = np.unique(data['Names'], return_counts = True)\n",
    "\n",
    "#Par ordre décroissant\n",
    "order = np.flip(np.argsort(nbr))\n",
    "\n",
    "#Graphique du pourcentage de message posté par les x membres qui parlent le plus\n",
    "x = [0]\n",
    "y = [0]\n",
    "\n",
    "for i in range(len(user)):\n",
    "    x.append(i + 1)\n",
    "    y.append(y[-1] + nbr[order[i]])\n",
    "\n",
    "y = y/np.max(y)\n",
    "\n",
    "plt.plot(x,y)\n",
    "plt.xlabel('Les x membres qui parlent le plus')\n",
    "plt.ylabel('Part des messages')\n",
    "plt.savefig(\"top_members_participation.png\")"
   ]
  },
  {
   "cell_type": "code",
   "execution_count": 21,
   "id": "f6d27a2d",
   "metadata": {},
   "outputs": [
    {
     "name": "stdout",
     "output_type": "stream",
     "text": [
      "Les 1 membres qui parlent le plus ont posté 10.8% des messages\n",
      "Les 2 membres qui parlent le plus ont posté 17.6% des messages\n",
      "Les 3 membres qui parlent le plus ont posté 23.8% des messages\n",
      "Les 4 membres qui parlent le plus ont posté 28.9% des messages\n",
      "Les 5 membres qui parlent le plus ont posté 33.4% des messages\n",
      "Les 6 membres qui parlent le plus ont posté 37.1% des messages\n",
      "Les 7 membres qui parlent le plus ont posté 40.6% des messages\n",
      "Les 8 membres qui parlent le plus ont posté 43.5% des messages\n",
      "Les 9 membres qui parlent le plus ont posté 46.2% des messages\n",
      "Les 10 membres qui parlent le plus ont posté 48.9% des messages\n",
      "Les 11 membres qui parlent le plus ont posté 50.7% des messages\n"
     ]
    }
   ],
   "source": [
    "for i in range(1, 12):\n",
    "    print(f\"Les {i} membres qui parlent le plus ont posté {y[i] * 100:.1f}% des messages\")"
   ]
  },
  {
   "cell_type": "markdown",
   "id": "b4830381",
   "metadata": {},
   "source": [
    "## Analyse de sentiments"
   ]
  },
  {
   "cell_type": "code",
   "execution_count": 22,
   "id": "95d904ad",
   "metadata": {},
   "outputs": [],
   "source": [
    "import nltk\n",
    "from nltk.sentiment.vader import SentimentIntensityAnalyzer\n",
    "from nltk.corpus import stopwords\n",
    "from nltk.tokenize import word_tokenize\n",
    "from nltk.stem import WordNetLemmatizer\n",
    "\n",
    "#Fonction d'analyse de sentiment d'un texte\n",
    "def sentiment_analyse(txt):\n",
    "    \n",
    "    #Preprocessing\n",
    "    #On met le texte en minuscule\n",
    "    msg = txt.lower()\n",
    "    \n",
    "    #On enlève le texte précedant cette réponse s'il y en a un\n",
    "    while 'original message' in msg:\n",
    "        msg = msg[:msg.find('original message')]\n",
    "    \n",
    "    #Tokenization\n",
    "    tokens = word_tokenize(msg)\n",
    "    \n",
    "    #Filtrer les stop words\n",
    "    filtered_tokens = [token for token in tokens if token not in stopwords.words('french')]\n",
    "    \n",
    "    #Lemmatization\n",
    "    lemmatized_tokens = [WordNetLemmatizer().lemmatize(token) for token in filtered_tokens]\n",
    "    \n",
    "    #On joint le texte\n",
    "    processed_text = ' '.join(lemmatized_tokens)\n",
    "    \n",
    "    #On analyse le texte résultant\n",
    "    res = SentimentIntensityAnalyzer().polarity_scores(processed_text)\n",
    "    \n",
    "    #On renvoie la composé qui correspond au bilan, négatif si négatif, positif si positif\n",
    "    return res['compound']\n",
    "\n",
    "#On rajoute une colonne Sentiment\n",
    "data[\"Sentiment\"] = data['Body'].apply(sentiment_analyse)"
   ]
  },
  {
   "cell_type": "code",
   "execution_count": 23,
   "id": "9ec80ff7",
   "metadata": {},
   "outputs": [
    {
     "data": {
      "text/plain": [
       "14.074300000000001"
      ]
     },
     "execution_count": 23,
     "metadata": {},
     "output_type": "execute_result"
    }
   ],
   "source": [
    "#Le bilan sentimental final de cette année du forum\n",
    "np.sum(data['Sentiment'])"
   ]
  },
  {
   "cell_type": "code",
   "execution_count": 24,
   "id": "84c624c8",
   "metadata": {},
   "outputs": [
    {
     "data": {
      "text/plain": [
       "0.009471265141318977"
      ]
     },
     "execution_count": 24,
     "metadata": {},
     "output_type": "execute_result"
    }
   ],
   "source": [
    "#La moyenne de sentiment de cette année\n",
    "np.mean(data['Sentiment'])"
   ]
  },
  {
   "cell_type": "code",
   "execution_count": 25,
   "id": "1ae41c65",
   "metadata": {},
   "outputs": [
    {
     "data": {
      "text/plain": [
       "462"
      ]
     },
     "execution_count": 25,
     "metadata": {},
     "output_type": "execute_result"
    }
   ],
   "source": [
    "#Le nombre de messages positifs\n",
    "np.count_nonzero(data['Sentiment'] > 0)"
   ]
  },
  {
   "cell_type": "code",
   "execution_count": 26,
   "id": "54d26fb7",
   "metadata": {},
   "outputs": [
    {
     "data": {
      "text/plain": [
       "544"
      ]
     },
     "execution_count": 26,
     "metadata": {},
     "output_type": "execute_result"
    }
   ],
   "source": [
    "#Le nombre de messages neutres\n",
    "np.count_nonzero(data['Sentiment'] == 0)"
   ]
  },
  {
   "cell_type": "code",
   "execution_count": 27,
   "id": "078e62d9",
   "metadata": {},
   "outputs": [
    {
     "data": {
      "text/plain": [
       "480"
      ]
     },
     "execution_count": 27,
     "metadata": {},
     "output_type": "execute_result"
    }
   ],
   "source": [
    "#Le nombre de messages négatifs\n",
    "np.count_nonzero(data['Sentiment'] < 0)"
   ]
  },
  {
   "cell_type": "code",
   "execution_count": 28,
   "id": "ad7769ac",
   "metadata": {},
   "outputs": [
    {
     "name": "stdout",
     "output_type": "stream",
     "text": [
      "Annonce\n"
     ]
    },
    {
     "data": {
      "text/plain": [
       "0.9996"
      ]
     },
     "execution_count": 28,
     "metadata": {},
     "output_type": "execute_result"
    }
   ],
   "source": [
    "#Le message le plus positif\n",
    "print(data.iloc[np.argmax(data['Sentiment'])][\"Subject\"])\n",
    "np.max(data['Sentiment'])"
   ]
  },
  {
   "cell_type": "code",
   "execution_count": 29,
   "id": "880deb03",
   "metadata": {},
   "outputs": [
    {
     "data": {
      "text/plain": [
       "-0.999"
      ]
     },
     "execution_count": 29,
     "metadata": {},
     "output_type": "execute_result"
    }
   ],
   "source": [
    "#Le message le plus négatif\n",
    "data.iloc[np.argmin(data['Sentiment'])][\"Subject\"]\n",
    "np.min(data['Sentiment'])"
   ]
  },
  {
   "cell_type": "code",
   "execution_count": 30,
   "id": "d25aa223",
   "metadata": {},
   "outputs": [],
   "source": [
    "#Calcul du bilan sentimental de chaque discussion:\n",
    "thread_sentiment = []\n",
    "for thread in forum:\n",
    "    thread_sentiment.append(np.sum(data[\"Sentiment\"][thread]))"
   ]
  },
  {
   "cell_type": "code",
   "execution_count": 31,
   "id": "85f015c6",
   "metadata": {},
   "outputs": [
    {
     "name": "stdout",
     "output_type": "stream",
     "text": [
      "Beethoven dans la musique contemporaine  |  4.9987\n",
      "Re: [musiSorbonne] Théorie de la forme au XVIIe siècle  |  3.0309999999999997\n",
      "De la Grandeur des Compositeurs  |  2.8695000000000004\n"
     ]
    }
   ],
   "source": [
    "#Les 3 discussions les plus positives:\n",
    "\n",
    "#Ordre décroissante de bilan sentimental\n",
    "order = np.flip(np.argsort(thread_sentiment))\n",
    "\n",
    "#Affichage de chaque sujet ainsi que son bilan sentimental associé\n",
    "for i in order[:3]:\n",
    "    print(data[\"Subject\"][forum[i][0]] + \"  |  \" + str(thread_sentiment[i]))"
   ]
  },
  {
   "cell_type": "code",
   "execution_count": 32,
   "id": "e3b4b37d",
   "metadata": {},
   "outputs": [
    {
     "name": "stdout",
     "output_type": "stream",
     "text": [
      "Re: [musiSorbonne] tension musicale  |  -7.1895\n",
      "Analyse mawwâl  |  -6.646199999999999\n",
      "Terme tab'  |  -4.016\n"
     ]
    }
   ],
   "source": [
    "#Les 3 discussions les plus négatives:\n",
    "\n",
    "#Ordre décroissante de bilan sentimental\n",
    "order = np.argsort(thread_sentiment)\n",
    "\n",
    "#Affichage de chaque sujet ainsi que son bilan sentimental associé\n",
    "for i in order[:3]:\n",
    "    print(data[\"Subject\"][forum[i][0]] + \"  |  \" + str(thread_sentiment[i]))"
   ]
  },
  {
   "cell_type": "code",
   "execution_count": 33,
   "id": "4db44f5c",
   "metadata": {},
   "outputs": [],
   "source": [
    "#Calcul du mouvement sentimental et du mouvement sentimental moyen de chaque discussion\n",
    "thread_sentiment_mouvement = []\n",
    "thread_sentiment_mouvement_mean = []\n",
    "\n",
    "for thread in forum:\n",
    "    \n",
    "    #Array des sentiments des messages de la discussion\n",
    "    sen = np.array(data[\"Sentiment\"][thread])\n",
    "    \n",
    "    #Calcul en utilisant le slicing d'array\n",
    "    if len(sen) > 1:\n",
    "        thread_sentiment_mouvement.append(np.sum(np.abs(sen[1:] - sen[:-1])))\n",
    "        thread_sentiment_mouvement_mean.append(np.sum(np.abs(sen[1:] - sen[:-1]))/len(sen))\n",
    "    else:\n",
    "        thread_sentiment_mouvement.append(0)\n",
    "        thread_sentiment_mouvement_mean.append(0)"
   ]
  },
  {
   "cell_type": "code",
   "execution_count": 34,
   "id": "e764d55a",
   "metadata": {},
   "outputs": [
    {
     "name": "stdout",
     "output_type": "stream",
     "text": [
      "modes formulaires et modes scalaires  |  0.7702000000000001  |  20\n",
      "a la decouverte de la musique jj rapin  |  0.8544071428571429  |  14\n",
      "Indignation  |  0.4108827586206897  |  29\n"
     ]
    }
   ],
   "source": [
    "#Les 3 discussions les plus mouvementées sentimentalement:\n",
    "order = np.flip(np.argsort(thread_sentiment_mouvement))\n",
    "for i in order[:3]:\n",
    "    print(data[\"Subject\"][forum[i][0]] + \"  |  \" + str(thread_sentiment_mouvement_mean[i]) + \"  |  \" + str(len(data.iloc[forum[i]])))"
   ]
  },
  {
   "cell_type": "code",
   "execution_count": 35,
   "id": "e5e19540",
   "metadata": {},
   "outputs": [
    {
     "name": "stdout",
     "output_type": "stream",
     "text": [
      "josquin!  |  1.226325  |  4\n",
      "[musiSorbonne] Cent et Savart  |  0.9878750000000001  |  4\n",
      "discussion sur les modes  |  0.8944833333333332  |  6\n"
     ]
    }
   ],
   "source": [
    "#Les 3 discussions les plus mouvementées sentimentalement en moyenne:\n",
    "order = np.flip(np.argsort(thread_sentiment_mouvement_mean))\n",
    "for i in order[:3]:\n",
    "    print(data[\"Subject\"][forum[i][0]] + \"  |  \" + str(thread_sentiment_mouvement_mean[i]) + \"  |  \" + str(len(data.iloc[forum[i]])))"
   ]
  },
  {
   "cell_type": "code",
   "execution_count": 36,
   "id": "783d1f2c",
   "metadata": {},
   "outputs": [],
   "source": [
    "#Calcul de l'impact sentimental par utilisateur\n",
    "sentiment_per_user = []\n",
    "\n",
    "for name in np.unique(data['Names']):\n",
    "    data_name = data[data['Names'] == name]\n",
    "    \n",
    "    balance = np.sum(data_name[\"Sentiment\"])\n",
    "    mean = np.mean(data_name[\"Sentiment\"])\n",
    "    \n",
    "    sentiment_per_user.append(np.array([name, balance, mean, len(data_name)], dtype = object))\n",
    "        \n",
    "sentiment_per_user = np.array(sentiment_per_user)"
   ]
  },
  {
   "cell_type": "markdown",
   "id": "7fe472d2",
   "metadata": {},
   "source": [
    "## Analyse des communautés d'utilisateurs"
   ]
  },
  {
   "cell_type": "code",
   "execution_count": 37,
   "id": "1f857685",
   "metadata": {},
   "outputs": [
    {
     "name": "stdout",
     "output_type": "stream",
     "text": [
      "Modularity = 0.21677843570545294\n"
     ]
    }
   ],
   "source": [
    "import networkx as nx\n",
    "\n",
    "#Liste des participants par discussion\n",
    "user_bags = []\n",
    "\n",
    "for d in forum:\n",
    "    #L'ensemble des utilisateurs de la discussion\n",
    "    bag = set(data[\"Names\"][d])\n",
    "    \n",
    "    user_bags.append(bag)\n",
    "\n",
    "#Liste des utilisateurs\n",
    "list_user = np.unique(data[\"Names\"])\n",
    "\n",
    "#Initialisation du graphe\n",
    "G = nx.Graph()\n",
    "\n",
    "AnB = 0\n",
    "\n",
    "#Création du graphe pondéré de discussions en commun entre deux utilisateurs\n",
    "\n",
    "#Pour chaque couple d'utilisateur qu'on n'a pas déjà regardé\n",
    "for i in range(len(list_user)):\n",
    "    for j in range(i, len(list_user)):\n",
    "        \n",
    "        #On regarde dans chaque sacs si les deux utilisateurs sont présents\n",
    "        for bag in user_bags:\n",
    "            if (list_user[i] in bag) and (list_user[j] in bag) and i != j:\n",
    "                AnB += 1\n",
    "        \n",
    "        #S'il y a des discussions en commun, on ajoute une arrête pondérée par le nombre de discussions en commun\n",
    "        if AnB > 0:\n",
    "            G.add_edge(list_user[i], list_user[j], weight = AnB, color = \"grey\")\n",
    "        \n",
    "        AnB = 0\n",
    "    \n",
    "#Calcul des communautés par Louvain\n",
    "communities = nx.community.louvain_communities(G, seed = 1000)\n",
    "\n",
    "print(\"Modularity = \" + str(nx.community.modularity(G, communities)))\n",
    "\n",
    "#Création des utilisateurs manquants\n",
    "for i in range(len(list_user)):\n",
    "    G.add_node(list_user[i])\n",
    "\n",
    "#Affectation des utilisateurs seuls à une communauté\n",
    "found = {u for community in communities for u in community}\n",
    "alone = {u for u in list_user if not u in found}\n",
    "communities.append(alone)\n",
    "\n",
    "#Attribution des groupes et tailles à chaque noeud\n",
    "for i in range(len(communities)):\n",
    "    for user in communities[i]:\n",
    "        G.nodes[user]['group'] = i\n",
    "        G.nodes[user]['size'] = np.sqrt(len(data[data[\"Names\"] == user])) * 2\n",
    "\n",
    "#Anonymisation\n",
    "labeler = {list_user[i]:i for i in range(len(list_user))}\n",
    "G = nx.relabel_nodes(G, labeler)"
   ]
  },
  {
   "cell_type": "code",
   "execution_count": 38,
   "id": "daef548e",
   "metadata": {},
   "outputs": [
    {
     "name": "stdout",
     "output_type": "stream",
     "text": [
      "nx.html\n"
     ]
    }
   ],
   "source": [
    "from pyvis.network import Network\n",
    "\n",
    "#Affichage du graph\n",
    "nt = Network('1080px', '1920px')\n",
    "nt.from_nx(G)\n",
    "nt.show_buttons()\n",
    "nt.repulsion()\n",
    "nt.show('nx.html', notebook=False)"
   ]
  },
  {
   "cell_type": "code",
   "execution_count": 39,
   "id": "f1d9dd78",
   "metadata": {},
   "outputs": [],
   "source": [
    "#Calcul d'un score de communauté pour chaque discussion\n",
    "community_score = np.zeros((len(forum), 6))\n",
    "\n",
    "#Pour chaque discussion du forum\n",
    "for i in range(len(forum)):\n",
    "    \n",
    "    #On compte le nombre d'utilisateur de chaque communauté au sein de cette discussion\n",
    "    for j in forum[i]:\n",
    "        for k in range(len(communities)):\n",
    "            if data[\"Names\"][j] in communities[k]:\n",
    "                community_score[i,k] += 1\n",
    "    \n",
    "    #On divise par le nombre d'utilisateurs afi d'avoir le pourcentage\n",
    "    community_score[i] /= np.sum(community_score[i])\n",
    "    \n",
    "    #On multiplie par la racine du nmobre de messages pour qu'elle influe mais pas trop\n",
    "    community_score[i] *= np.sqrt(len(forum[i]))"
   ]
  },
  {
   "cell_type": "code",
   "execution_count": 40,
   "id": "75374d43",
   "metadata": {},
   "outputs": [
    {
     "name": "stdout",
     "output_type": "stream",
     "text": [
      "4.564354645876384  |  la musique tonale contemporaine\n",
      "3.872983346207417  |  Question sur  notre Victoire de la musique 2003 (Thierry Escaich, composition) \n",
      "2.8284271247461903  |  valeur\n",
      "2.82842712474619  |  le disque de musique classique\n",
      "2.1380899352993947  |  a la decouverte de la musique jj rapin\n"
     ]
    },
    {
     "data": {
      "text/plain": [
       "array([-2.3547, -0.1751, -1.6779,  1.2192,  1.4089,  2.0436, -0.5204,\n",
       "       -0.9361, -0.7655, -2.0667])"
      ]
     },
     "execution_count": 40,
     "metadata": {},
     "output_type": "execute_result"
    }
   ],
   "source": [
    "#Communauté C à regarder\n",
    "C = 0\n",
    "\n",
    "order = np.flip(np.argsort(community_score[:,C]))\n",
    "\n",
    "#Discussions type de la communauté C\n",
    "for i in range(5):\n",
    "    print(str(community_score[order[i],C]) + \"  |  \" + data[\"Subject\"][forum[order[i]][0]])\n",
    "\n",
    "#Les bilans sentimentaux des 10 discussions les plus relevants de la commmunauté C\n",
    "order = np.flip(np.argsort(community_score[:,C]))\n",
    "\n",
    "np.array(thread_sentiment)[order[:10]]"
   ]
  },
  {
   "cell_type": "code",
   "execution_count": 41,
   "id": "c5cb7961",
   "metadata": {},
   "outputs": [
    {
     "name": "stdout",
     "output_type": "stream",
     "text": [
      "2.23606797749979  |  Histoires de la musique\n",
      "2.121320343559643  |  Re: [musiSorbonne] Chine et monde musulman\n",
      "2.041241452319315  |  discussion sur les modes\n",
      "1.788854381999832  |  terminologie: texture\n",
      "1.7320508075688772  |  QUESTION : MODALITE ET TONALITE : QUELLES DATES ?!\n"
     ]
    },
    {
     "data": {
      "text/plain": [
       "array([-0.772 , -2.4871, -1.2876,  0.2263, -1.5098,  2.8695,  0.6293,\n",
       "       -1.7845, -7.1895,  0.0776])"
      ]
     },
     "execution_count": 41,
     "metadata": {},
     "output_type": "execute_result"
    }
   ],
   "source": [
    "#Communauté C à regarder\n",
    "C = 1\n",
    "\n",
    "order = np.flip(np.argsort(community_score[:,C]))\n",
    "\n",
    "#Discussions type de la communauté C\n",
    "for i in range(5):\n",
    "    print(str(community_score[order[i],C]) + \"  |  \" + data[\"Subject\"][forum[order[i]][0]])\n",
    "\n",
    "#Les bilans sentimentaux des 10 discussions les plus relevants de la commmunauté C\n",
    "order = np.flip(np.argsort(community_score[:,C]))\n",
    "\n",
    "np.array(thread_sentiment)[order[:10]]"
   ]
  },
  {
   "cell_type": "code",
   "execution_count": 42,
   "id": "9eef94bc",
   "metadata": {},
   "outputs": [
    {
     "name": "stdout",
     "output_type": "stream",
     "text": [
      "4.456688116249245  |  Indignation\n",
      "2.529822128134704  |  Intervalles al-Khawârismî\n",
      "2.449489742783178  |  Il est temps de réserver\n",
      "2.2135943621178655  |  Re: [musiSorbonne] Intonations\n",
      "2.012461179749811  |  modes formulaires et modes scalaires\n"
     ]
    },
    {
     "data": {
      "text/plain": [
       "array([-0.3693,  0.4629,  0.7324, -0.1905, -2.5813,  1.1277,  1.0621,\n",
       "       -1.1465,  0.0313, -1.4869])"
      ]
     },
     "execution_count": 42,
     "metadata": {},
     "output_type": "execute_result"
    }
   ],
   "source": [
    "#Communauté C à regarder\n",
    "C = 2\n",
    "\n",
    "order = np.flip(np.argsort(community_score[:,C]))\n",
    "\n",
    "#Discussions type de la communauté C\n",
    "for i in range(5):\n",
    "    print(str(community_score[order[i],C]) + \"  |  \" + data[\"Subject\"][forum[order[i]][0]])\n",
    "\n",
    "#Les bilans sentimentaux des 10 discussions les plus relevants de la commmunauté C\n",
    "order = np.flip(np.argsort(community_score[:,C]))\n",
    "\n",
    "np.array(thread_sentiment)[order[:10]]"
   ]
  },
  {
   "cell_type": "code",
   "execution_count": 43,
   "id": "d4aa4b75",
   "metadata": {},
   "outputs": [
    {
     "name": "stdout",
     "output_type": "stream",
     "text": [
      "3.605551275463989  |  Analyse mawwâl\n",
      "2.8460498941515415  |  Josquin\n",
      "2.8284271247461903  |  [musiSorbonne] Lecture MP3\n",
      "2.6666666666666665  |  Re: [musiSorbonne] mXlodie\n",
      "2.449489742783178  |  Barthes théoricien de la musique\n"
     ]
    },
    {
     "data": {
      "text/plain": [
       "array([-6.6462,  0.6714, -0.6703,  0.1954,  0.6883,  1.1121,  2.1629,\n",
       "        0.4035, -0.0722,  1.9352])"
      ]
     },
     "execution_count": 43,
     "metadata": {},
     "output_type": "execute_result"
    }
   ],
   "source": [
    "#Communauté C à regarder\n",
    "C = 3\n",
    "\n",
    "order = np.flip(np.argsort(community_score[:,C]))\n",
    "\n",
    "#Discussions type de la communauté C\n",
    "for i in range(5):\n",
    "    print(str(community_score[order[i],C]) + \"  |  \" + data[\"Subject\"][forum[order[i]][0]])\n",
    "\n",
    "#Les bilans sentimentaux des 10 discussions les plus relevants de la commmunauté C\n",
    "order = np.flip(np.argsort(community_score[:,C]))\n",
    "\n",
    "np.array(thread_sentiment)[order[:10]]"
   ]
  },
  {
   "cell_type": "code",
   "execution_count": 44,
   "id": "c143e6b8",
   "metadata": {},
   "outputs": [
    {
     "name": "stdout",
     "output_type": "stream",
     "text": [
      "2.910427500435996  |  Beethoven dans la musique contemporaine\n",
      "2.2677868380553634  |  Question\n",
      "2.23606797749979  |  Debussy, Golliwog\n",
      "2.041241452319315  |  Qui conna\n",
      "1.7320508075688772  |  Leon theremine\n"
     ]
    },
    {
     "data": {
      "text/plain": [
       "array([ 4.9987, -1.4877,  0.7184, -0.1733,  0.    , -0.045 ,  0.1401,\n",
       "       -1.815 , -1.4088, -2.8381])"
      ]
     },
     "execution_count": 44,
     "metadata": {},
     "output_type": "execute_result"
    }
   ],
   "source": [
    "#Communauté C à regarder\n",
    "C = 4\n",
    "\n",
    "order = np.flip(np.argsort(community_score[:,C]))\n",
    "\n",
    "#Discussions type de la communauté C\n",
    "for i in range(5):\n",
    "    print(str(community_score[order[i],C]) + \"  |  \" + data[\"Subject\"][forum[order[i]][0]])\n",
    "\n",
    "#Les bilans sentimentaux des 10 discussions les plus relevants de la commmunauté C\n",
    "order = np.flip(np.argsort(community_score[:,C]))\n",
    "\n",
    "np.array(thread_sentiment)[order[:10]]"
   ]
  },
  {
   "cell_type": "code",
   "execution_count": 45,
   "id": "993b9614",
   "metadata": {},
   "outputs": [
    {
     "name": "stdout",
     "output_type": "stream",
     "text": [
      "1.0  |  annonce colloque\n",
      "1.0  |  parution\n",
      "1.0  |  Rencontres Moyen-Age et Renaissance\n",
      "1.0  |  Vient de paraître : Revue de Musicologie 88/2 (2002)\n",
      "1.0  |  Vient de paraître : Revue de Musicologie 89/1 : 2003\n"
     ]
    },
    {
     "data": {
      "text/plain": [
       "array([-0.1027, -0.802 , -0.6072,  0.765 ,  0.7506,  0.9013,  0.    ,\n",
       "        0.9788,  0.    ,  0.    ])"
      ]
     },
     "execution_count": 45,
     "metadata": {},
     "output_type": "execute_result"
    }
   ],
   "source": [
    "#Communauté C à regarder\n",
    "C = 5\n",
    "\n",
    "order = np.flip(np.argsort(community_score[:,C]))\n",
    "\n",
    "#Discussions type de la communauté C\n",
    "for i in range(5):\n",
    "    print(str(community_score[order[i],C]) + \"  |  \" + data[\"Subject\"][forum[order[i]][0]])\n",
    "\n",
    "#Les bilans sentimentaux des 10 discussions les plus relevants de la commmunauté C\n",
    "order = np.flip(np.argsort(community_score[:,C]))\n",
    "\n",
    "np.array(thread_sentiment)[order[:10]]"
   ]
  },
  {
   "cell_type": "code",
   "execution_count": 46,
   "id": "2e6accaf",
   "metadata": {},
   "outputs": [],
   "source": [
    "import spacy\n",
    "\n",
    "#Trouver les mots-clefs\n",
    "#On utilise des données françaises afin de trouver les entités nommées\n",
    "nlp = spacy.load('fr_core_news_sm')\n",
    "\n",
    "#Fonction qui détermine les mots-clefs d'un texte\n",
    "def find_keyword(txt):\n",
    "    \n",
    "    res = txt\n",
    "    \n",
    "    #On enlève le message originel s'il est présent dans le corps du message\n",
    "    while 'original message' in res.lower():\n",
    "        res = res[:res.lower().find('original message')]\n",
    "    \n",
    "    #On détermine les entités nommées\n",
    "    keywords = [str(word) for word in nlp(unidecode(res)).ents]\n",
    "    \n",
    "    #On le retourne sous forme d'array numpy\n",
    "    return np.array(keywords, dtype = object)\n",
    "\n",
    "#On ajoute une colonne Keyword\n",
    "data[\"Keyword\"] = data[\"Body\"].apply(find_keyword)"
   ]
  },
  {
   "cell_type": "code",
   "execution_count": 47,
   "id": "74960239",
   "metadata": {},
   "outputs": [
    {
     "name": "stdout",
     "output_type": "stream",
     "text": [
      "Paris  |  422\n",
      "France  |  167\n",
      "Bonjour  |  162\n",
      "Merci  |  149\n",
      "Beethoven  |  137\n",
      "Bach  |  131\n",
      "Europe  |  117\n",
      "Paris IV  |  110\n",
      "Mozart  |  107\n",
      "Sorbonne  |  107\n",
      "Cordialement  |  78\n",
      "I  |  77\n",
      "Berlioz  |  72\n"
     ]
    }
   ],
   "source": [
    "#Les 20 mots clefs les plus trouvés\n",
    "#Création d'une liste concatenant toutes les listes d'entitées nommées\n",
    "all_keyword = np.array([])\n",
    "for liste in data[\"Keyword\"]:\n",
    "    all_keyword = np.append(all_keyword, liste)\n",
    "\n",
    "#On compte l'occurence de chaque entité nommmée\n",
    "mots, nbr = np.unique(all_keyword, return_counts = True)\n",
    "\n",
    "#Ordre décroissant d'occurence\n",
    "order = np.flip(np.argsort(nbr))\n",
    "\n",
    "for i in range(20):\n",
    "    \n",
    "    #Affichage de la i-ème entité nommée la plus obervée\n",
    "    pos = order[i]\n",
    "    \n",
    "    #Anonymisation s'il s'agit d'un utilisateur\n",
    "    if not i in [1, 7, 9, 10, 14, 15, 16]:\n",
    "        print(str(mots[pos]) + \"  |  \" + str(nbr[pos]))"
   ]
  },
  {
   "cell_type": "code",
   "execution_count": null,
   "id": "01797b4e",
   "metadata": {},
   "outputs": [],
   "source": []
  }
 ],
 "metadata": {
  "kernelspec": {
   "display_name": "Python 3 (ipykernel)",
   "language": "python",
   "name": "python3"
  },
  "language_info": {
   "codemirror_mode": {
    "name": "ipython",
    "version": 3
   },
   "file_extension": ".py",
   "mimetype": "text/x-python",
   "name": "python",
   "nbconvert_exporter": "python",
   "pygments_lexer": "ipython3",
   "version": "3.11.7"
  }
 },
 "nbformat": 4,
 "nbformat_minor": 5
}
